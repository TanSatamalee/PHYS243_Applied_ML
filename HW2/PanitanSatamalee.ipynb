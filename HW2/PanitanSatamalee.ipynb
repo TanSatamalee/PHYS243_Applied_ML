{
 "cells": [
  {
   "cell_type": "code",
   "execution_count": 48,
   "metadata": {},
   "outputs": [
    {
     "name": "stdout",
     "output_type": "stream",
     "text": [
      "Model Accuracy: 0.8783068783068783\n",
      "Predict a 25 year-old, weak democrat who watches TV-news 7-times a week: [0]\n",
      "Where [0] means Clinton and [1] means Dole\n"
     ]
    }
   ],
   "source": [
    "import pandas as pd\n",
    "import numpy as np\n",
    "from sklearn.cross_validation import train_test_split\n",
    "from sklearn.linear_model import LogisticRegression\n",
    "from sklearn import metrics\n",
    "\n",
    "\n",
    "DATA_SET_PATH = \"election_dataset.csv\"\n",
    "\n",
    "def train_logistic_regression(train_x, train_y):\n",
    "    logistic_regression_model = LogisticRegression()\n",
    "    logistic_regression_model.fit(train_x, train_y)\n",
    "    return logistic_regression_model\n",
    "\n",
    "dataset = pd.read_csv(DATA_SET_PATH)\n",
    "    \n",
    "training_features = []\n",
    "target = 'vote'\n",
    "\n",
    "# Shuffles data and splits into 80% training and 20% testing sets and selecting only 3 features.\n",
    "data = np.array(dataset)\n",
    "train_x, test_x, train_y, test_y = train_test_split(data[:,[1, 5, 6]], data[:,-1], test_size=0.2, random_state=42)\n",
    "\n",
    "# Trains model with training data set.\n",
    "trained_logistic_regression_model = train_logistic_regression(train_x, train_y)\n",
    "\n",
    "def model_accuracy(trained_model, features, targets):\n",
    "    accuracy_score = trained_model.score(features, targets)\n",
    "    return accuracy_score\n",
    "\n",
    "# Calculates accuracy of model with test data set.\n",
    "accuracy = model_accuracy(trained_logistic_regression_model, test_x, test_y)\n",
    "print \"Model Accuracy: \" + str(accuracy)\n",
    "\n",
    "# Predicts vote of 25 year-old weak democrat person who watches TV-news 7-times a week.\n",
    "predict = trained_logistic_regression_model.predict(np.array([[7, 1, 25]]))\n",
    "print \"Predict a 25 year-old, weak democrat who watches TV-news 7-times a week: \" + str(predict)\n",
    "print \"Where [0] means Clinton and [1] means Dole\""
   ]
  }
 ],
 "metadata": {
  "kernelspec": {
   "display_name": "Python 2",
   "language": "python",
   "name": "python2"
  },
  "language_info": {
   "codemirror_mode": {
    "name": "ipython",
    "version": 2
   },
   "file_extension": ".py",
   "mimetype": "text/x-python",
   "name": "python",
   "nbconvert_exporter": "python",
   "pygments_lexer": "ipython2",
   "version": "2.7.15"
  }
 },
 "nbformat": 4,
 "nbformat_minor": 2
}
