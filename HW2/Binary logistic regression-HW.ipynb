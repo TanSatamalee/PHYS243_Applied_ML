{
 "cells": [
  {
   "cell_type": "code",
   "execution_count": 4,
   "metadata": {
    "collapsed": false
   },
   "outputs": [],
   "source": [
    "import pandas as pd\n",
    "import numpy as np\n",
    "from sklearn.cross_validation import train_test_split\n",
    "from sklearn.linear_model import LogisticRegression\n",
    "from sklearn import metrics\n",
    "\n",
    "\n",
    "DATA_SET_PATH = \"election_dataset.csv\"\n",
    "\n",
    "def train_logistic_regression(train_x, train_y):\n",
    "    logistic_regression_model = LogisticRegression()\n",
    "    logistic_regression_model.fit(train_x, train_y)\n",
    "    return logistic_regression_model\n",
    "\n",
    "dataset = pd.read_csv()\n",
    "    \n",
    "training_features = []\n",
    "target = 'vote'\n",
    "\n",
    "        \n",
    "trained_logistic_regression_model = train_logistic_regression(train_x, train_y)\n",
    "\n",
    "def model_accuracy(trained_model, features, targets):\n",
    "    accuracy_score = trained_model.score(features, targets)\n",
    "    return accuracy_score"
   ]
  }
 ],
 "metadata": {
  "kernelspec": {
   "display_name": "Python 2",
   "language": "python",
   "name": "python2"
  },
  "language_info": {
   "codemirror_mode": {
    "name": "ipython",
    "version": 2
   },
   "file_extension": ".py",
   "mimetype": "text/x-python",
   "name": "python",
   "nbconvert_exporter": "python",
   "pygments_lexer": "ipython2",
   "version": "2.7.11"
  }
 },
 "nbformat": 4,
 "nbformat_minor": 2
}
